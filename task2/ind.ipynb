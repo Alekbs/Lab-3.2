{
 "cells": [
  {
   "cell_type": "markdown",
   "id": "b7a72a39",
   "metadata": {},
   "source": [
    "## Индивидуальное задание\n",
    "Дана целочисленная прямоугольная матрица. Определить количество столбцов, не содержащих ни одного нулевого элемента. Характеристикой строки целочисленной матрицы назовем сумму ее положительных четных элементов. Переставляя строки заданной матрицы, расположить их в соответствии с ростом характеристик."
   ]
  },
  {
   "cell_type": "code",
   "execution_count": 11,
   "id": "2183d4b4",
   "metadata": {},
   "outputs": [
    {
     "name": "stdout",
     "output_type": "stream",
     "text": [
      "Введите размерность матрицы:\n",
      "m = 5\n",
      "n = 3\n"
     ]
    }
   ],
   "source": [
    "import numpy as np\n",
    "\n",
    "m = int(input(\"Введите размерность матрицы:\\nm = \"))\n",
    "n = int(input(\"n = \"))\n",
    "matrix =  np.random.randint(-10, 20, size=(m, n))"
   ]
  },
  {
   "cell_type": "code",
   "execution_count": 12,
   "id": "0a59b235",
   "metadata": {},
   "outputs": [
    {
     "name": "stdout",
     "output_type": "stream",
     "text": [
      "Матрица:\n",
      " [[-3 -4  3]\n",
      " [-1  5  8]\n",
      " [-3 -7 -5]\n",
      " [-4 -6 -7]\n",
      " [ 5  8 16]]\n"
     ]
    }
   ],
   "source": [
    "print(\"Матрица:\\n\", matrix)"
   ]
  },
  {
   "cell_type": "code",
   "execution_count": 14,
   "id": "a3997a7c",
   "metadata": {},
   "outputs": [
    {
     "name": "stdout",
     "output_type": "stream",
     "text": [
      "Количество столбцов без нулевых элементов: 3\n",
      "Отсортированная матрица:\n",
      "[[-3 -4  3]\n",
      " [-3 -7 -5]\n",
      " [-4 -6 -7]\n",
      " [-1  5  8]\n",
      " [ 5  8 16]]\n"
     ]
    }
   ],
   "source": [
    "\n",
    "non_zero_columns = np.count_nonzero(np.prod(matrix, axis=0))\n",
    "print(\"Количество столбцов без нулевых элементов:\", non_zero_columns)\n",
    "\n",
    "row_characteristics = np.sum(matrix * (matrix > 0) * (matrix % 2 == 0), axis=1)\n",
    "\n",
    "sorted_indices = np.argsort(row_characteristics)\n",
    "\n",
    "sorted_matrix = matrix[sorted_indices]\n",
    "print(\"Отсортированная матрица:\")\n",
    "print(sorted_matrix)\n"
   ]
  }
 ],
 "metadata": {
  "kernelspec": {
   "display_name": "Python 3 (ipykernel)",
   "language": "python",
   "name": "python3"
  },
  "language_info": {
   "codemirror_mode": {
    "name": "ipython",
    "version": 3
   },
   "file_extension": ".py",
   "mimetype": "text/x-python",
   "name": "python",
   "nbconvert_exporter": "python",
   "pygments_lexer": "ipython3",
   "version": "3.9.13"
  }
 },
 "nbformat": 4,
 "nbformat_minor": 5
}
