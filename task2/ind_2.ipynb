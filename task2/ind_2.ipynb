{
 "cells": [
  {
   "cell_type": "markdown",
   "id": "910d5017",
   "metadata": {},
   "source": [
    "# Индивидуальное задание 2\n",
    "Рассчитать методом контурных токов токи в ветвях для заданной  \n",
    "электрической цепи с источниками ЭДС  \n",
    "![zadanie](./zadanie.png)"
   ]
  },
  {
   "cell_type": "code",
   "execution_count": 4,
   "id": "c6d5824b",
   "metadata": {},
   "outputs": [],
   "source": [
    "import numpy as np"
   ]
  },
  {
   "cell_type": "code",
   "execution_count": 5,
   "id": "94a05c57",
   "metadata": {},
   "outputs": [],
   "source": [
    "r1 = 100\n",
    "r2 = 300\n",
    "r3 = 150\n",
    "r4 = 250\n",
    "e1 = 10\n",
    "e2 = 20\n",
    "e3 = 15"
   ]
  },
  {
   "cell_type": "code",
   "execution_count": 47,
   "id": "9e32eaf6",
   "metadata": {},
   "outputs": [],
   "source": [
    "a1 = [r1 + r2, -r2,0]\n",
    "a2 = [-r2, r2 + r4,-r4]\n",
    "a3 = [0, -r4, r3 + r4]\n",
    "b = [e1, -e2, e3]"
   ]
  },
  {
   "cell_type": "code",
   "execution_count": 58,
   "id": "d508eb44",
   "metadata": {},
   "outputs": [],
   "source": [
    "d = np.linalg.det(np.transpose(np.matrix([a1, a2, a3])))\n",
    "d1 = np.linalg.det(np.transpose(np.matrix([b, a2, a3])))\n",
    "d2 = np.linalg.det(np.transpose(np.matrix([a1, b, a3])))\n",
    "d3 = np.linalg.det(np.transpose(np.matrix([a1, a2, b])))"
   ]
  },
  {
   "cell_type": "code",
   "execution_count": 56,
   "id": "22416536",
   "metadata": {},
   "outputs": [],
   "source": [
    "Ik1 = d1/d\n",
    "Ik2 = d2/d\n",
    "Ik3 = d3/d"
   ]
  },
  {
   "cell_type": "code",
   "execution_count": 57,
   "id": "c0fa3b13",
   "metadata": {},
   "outputs": [
    {
     "name": "stdout",
     "output_type": "stream",
     "text": [
      "Решение\n",
      "I1 = 0.011 A\n",
      "I2 = 0.030 A\n",
      "I3 = 0.026 A\n",
      "I4 = -0.044 A\n",
      "I5 = 0.019 A\n"
     ]
    }
   ],
   "source": [
    "print(\"Решение\")\n",
    "print(f\"I1 = {Ik1:.3f} A\")\n",
    "print(f\"I2 = {Ik1-Ik2:.3f} A\")\n",
    "print(f\"I3 = {Ik3:.3f} A\")\n",
    "print(f\"I4 = {Ik2-Ik3:.3f} A\")\n",
    "print(f\"I5 = {-Ik2:.3f} A\")"
   ]
  }
 ],
 "metadata": {
  "kernelspec": {
   "display_name": "Python 3 (ipykernel)",
   "language": "python",
   "name": "python3"
  },
  "language_info": {
   "codemirror_mode": {
    "name": "ipython",
    "version": 3
   },
   "file_extension": ".py",
   "mimetype": "text/x-python",
   "name": "python",
   "nbconvert_exporter": "python",
   "pygments_lexer": "ipython3",
   "version": "3.9.13"
  }
 },
 "nbformat": 4,
 "nbformat_minor": 5
}
