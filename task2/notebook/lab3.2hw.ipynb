{
 "cells": [
  {
   "cell_type": "markdown",
   "metadata": {},
   "source": [
    "# Лабораторная работа 3.2. Домашнее задание"
   ]
  },
  {
   "cell_type": "markdown",
   "metadata": {},
   "source": [
    "### Задание №1"
   ]
  },
  {
   "cell_type": "markdown",
   "metadata": {},
   "source": [
    "Создайте два массива: в первом должны быть четные числа от 2 до 12 включительно, а в другом числа 7, 11, 15, 18, 23, 29."
   ]
  },
  {
   "cell_type": "markdown",
   "metadata": {},
   "source": [
    "$1.$ Сложите массивы и возведите элементы получившегося массива в квадрат:"
   ]
  },
  {
   "cell_type": "code",
   "execution_count": 21,
   "metadata": {
    "jupyter": {
     "outputs_hidden": true
    }
   },
   "outputs": [
    {
     "name": "stdout",
     "output_type": "stream",
     "text": [
      "[  81  225  441  676 1089 1681]\n"
     ]
    }
   ],
   "source": [
    "import numpy as np\n",
    "a=np.arange(2,13,2)\n",
    "b=np.array([7,11,15,18,23,29])\n",
    "print((a+b)**2)"
   ]
  },
  {
   "cell_type": "markdown",
   "metadata": {},
   "source": [
    "$2.$ Выведите все элементы из первого массива, индексы которых соответствуют индексам тех элементов второго массива, которые больше 12 и дают остаток 3 при делении на 5."
   ]
  },
  {
   "cell_type": "code",
   "execution_count": 22,
   "metadata": {
    "jupyter": {
     "outputs_hidden": true
    }
   },
   "outputs": [
    {
     "name": "stdout",
     "output_type": "stream",
     "text": [
      "[ 8 10]\n"
     ]
    }
   ],
   "source": [
    "print(a[np.logical_and(b>12,b%5==3)])"
   ]
  },
  {
   "cell_type": "markdown",
   "metadata": {},
   "source": [
    "*3.* Проверьте условие \"Элементы первого массива делятся на 4, элементы второго массива меньше 14\". (Подсказка: в результате должен получиться массив с True и False)"
   ]
  },
  {
   "cell_type": "markdown",
   "metadata": {},
   "source": [
    "### Задание №2"
   ]
  },
  {
   "cell_type": "markdown",
   "metadata": {},
   "source": [
    "* Найдите интересный для вас датасет. Например, можно выбрать датасет тут. http://data.un.org/Explorer.aspx (выбираете датасет, жмете на view data, потом download, выбирайте csv формат)\n",
    "* Рассчитайте подходящие описательные статистики для признаков объектов в выбранном датасете\n",
    "* Проанализируйте и прокомментируйте содержательно получившиеся результаты\n",
    "* Все комментарии оформляйте строго в ячейках формата markdown\n",
    "    "
   ]
  },
  {
   "cell_type": "code",
   "execution_count": 23,
   "metadata": {
    "jupyter": {
     "outputs_hidden": true
    }
   },
   "outputs": [],
   "source": [
    "import csv\n",
    "import numpy as np"
   ]
  },
  {
   "cell_type": "code",
   "execution_count": 24,
   "metadata": {},
   "outputs": [],
   "source": [
    "with open ('organizations_gdp_hist.csv','r',newline='') as f:\n",
    "    data=csv.reader(f,delimiter=\",\")\n",
    "    total_gdp=[]\n",
    "    gdp_variation=[]\n",
    "    for row in data:\n",
    "        if row[2]==\"Miembros OCDE\":\n",
    "            total_gdp.append(float(row[6]))\n",
    "            gdp_variation.append(float(row[8]))"
   ]
  },
  {
   "cell_type": "code",
   "execution_count": 25,
   "metadata": {},
   "outputs": [
    {
     "name": "stdout",
     "output_type": "stream",
     "text": [
      "Среднее значение ВВП в Организации экономического сотрудничества и развития: 22238256040665.2\n",
      "Среднее значение изменения ВВП: 2.9227095605094546\n",
      "Среднее отклонение ВВП в Организации экономического сотрудничества и развития: 18335569068062.613\n",
      "Среднее отклонение изменения ВВП: 2.00698391724925\n",
      "Коэффицент парной корреляции: [[ 1.         -0.47053856]\n",
      " [-0.47053856  1.        ]]\n"
     ]
    }
   ],
   "source": [
    "\n",
    "print(f\"Среднее значение ВВП в Организации экономического сотрудничества и развития: {np.mean(total_gdp)}\")\n",
    "print(f\"Среднее значение изменения ВВП: {np.mean(gdp_variation)}\")\n",
    "print(f\"Среднее отклонение ВВП в Организации экономического сотрудничества и развития: {np.std(total_gdp)}\")\n",
    "print(f\"Среднее отклонение изменения ВВП: {np.std(gdp_variation)}\")\n",
    "print(f\"Коэффицент парной корреляции: {np.corrcoef(total_gdp,gdp_variation)}\")"
   ]
  }
 ],
 "metadata": {
  "kernelspec": {
   "display_name": "Python 3 (ipykernel)",
   "language": "python",
   "name": "python3"
  },
  "language_info": {
   "codemirror_mode": {
    "name": "ipython",
    "version": 3
   },
   "file_extension": ".py",
   "mimetype": "text/x-python",
   "name": "python",
   "nbconvert_exporter": "python",
   "pygments_lexer": "ipython3",
   "version": "3.9.13"
  }
 },
 "nbformat": 4,
 "nbformat_minor": 4
}
